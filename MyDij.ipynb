{
 "cells": [
  {
   "cell_type": "code",
   "execution_count": 23,
   "metadata": {},
   "outputs": [],
   "source": [
    "import numpy as np\n",
    "from queue import PriorityQueue\n",
    "import time\n",
    "import os"
   ]
  },
  {
   "cell_type": "code",
   "execution_count": 24,
   "metadata": {},
   "outputs": [],
   "source": [
    "class Graph():\n",
    "    def __init__(self, tam):\n",
    "        self.dist = np.zeros(shape=(tam))\n",
    "        for i in range(tam):\n",
    "            self.dist[i] = int(1e18)\n",
    "        self.graph = list()\n",
    "        for _ in range(tam):\n",
    "            self.graph.append(list())\n",
    "    \n",
    "    def add_edge(self, u, v, d):\n",
    "        self.graph[u].append((v, d))\n",
    "        self.graph[v].append((u, d))\n",
    "    \n",
    "    def Dijkstra(self, initial):\n",
    "        q = PriorityQueue()\n",
    "        q.put((0, initial))\n",
    "        self.dist[initial] = 0\n",
    "        \n",
    "        while not q.empty():\n",
    "            d, u = q.get()\n",
    "            \n",
    "            print(f\"Analisando vertice {u} que tem uma distância {d} de {initial}\")\n",
    "            time.sleep(3)\n",
    "            \n",
    "            if d > self.dist[u]:\n",
    "                continue\n",
    "            \n",
    "            for to, di in self.graph[u]:\n",
    "                print(f\"Checando se a distancia de {u} até {to} mais a distancia de {initial} até {u} é menor que a distância de {initial} até {to} ja encontrada\")\n",
    "                time.sleep(3)\n",
    "                \n",
    "                if d + di < self.dist[to]:\n",
    "                    print(f\"Sim a distancia é menor sendo {di + d} a distância passando por {u} e {self.dist[to]} a distancia direto\")\n",
    "                    time.sleep(3)\n",
    "                    self.dist[to] = d + di\n",
    "                    q.put((d+di, to))\n",
    "            \n",
    "            self.print_dist()\n",
    "            time.sleep(5)\n",
    "            os.system('cls')\n",
    "            \n",
    "    def print_dist(self):\n",
    "        for i in range(len(self.dist)):\n",
    "            print(f\"A distância até {i} é {'inf' if self.dist[i] == int(1e18) else str(self.dist[i])}\")\n",
    "        "
   ]
  },
  {
   "cell_type": "code",
   "execution_count": null,
   "metadata": {},
   "outputs": [
    {
     "name": "stdout",
     "output_type": "stream",
     "text": [
      "Digite o tamanho do grafo 4 \n",
      "Digite o numero de arestas5\n",
      "Digite 5 as arestas no seguinte formato: <vertice1 vertice2 distancia> e no final aperte enter para inserir a próxima\n",
      "0 1 3\n",
      "0 2 4\n",
      "0 3 7\n",
      "1 2 3\n",
      "3 1 9\n",
      "Agora iremos mostrar como acontece passo a passo o dijkstra, apenas escolha o ponto inicial de 0 a 3\n",
      "3\n",
      "Analisando vertice 3 que tem uma distância 0 de 3\n",
      "Checando se a distancia de 3 até 0 mais a distancia de 3 até 3 é menor que a distância de 3 até 0 ja encontrada\n",
      "Sim a distancia é menor sendo 7 a distância passando por 3 e 1e+18 a distancia direto\n",
      "Checando se a distancia de 3 até 1 mais a distancia de 3 até 3 é menor que a distância de 3 até 1 ja encontrada\n",
      "Sim a distancia é menor sendo 9 a distância passando por 3 e 1e+18 a distancia direto\n",
      "A distância até 0 é 7.0\n",
      "A distância até 1 é 9.0\n",
      "A distância até 2 é inf\n",
      "A distância até 3 é 0.0\n"
     ]
    }
   ],
   "source": [
    "n = int(input(\"Digite o tamanho do grafo \"))\n",
    "m = int(input(\"Digite o numero de arestas\"))\n",
    "g = Graph(n)\n",
    "print(f\"Digite {m} as arestas no seguinte formato: <vertice1 vertice2 distancia> e no final aperte enter para inserir a próxima\")\n",
    "for _ in range(m):\n",
    "    u, v, d = map(int, input().split())\n",
    "    g.add_edge(u, v, d)\n",
    "print(f\"Agora iremos mostrar como acontece passo a passo o dijkstra, apenas escolha o ponto inicial de 0 a {n-1}\")\n",
    "initial = int(input())\n",
    "\n",
    "g.Dijkstra(initial)\n",
    "\n",
    "print(\"Resultado final:\")\n",
    "g.print_dist()"
   ]
  },
  {
   "cell_type": "code",
   "execution_count": null,
   "metadata": {},
   "outputs": [],
   "source": [
    "4\n",
    "5\n",
    "0 1 3\n",
    "0 2 4\n",
    "0 3 7\n",
    "1 2 3\n",
    "3 1 9"
   ]
  }
 ],
 "metadata": {
  "kernelspec": {
   "display_name": "Python 3",
   "language": "python",
   "name": "python3"
  },
  "language_info": {
   "codemirror_mode": {
    "name": "ipython",
    "version": 3
   },
   "file_extension": ".py",
   "mimetype": "text/x-python",
   "name": "python",
   "nbconvert_exporter": "python",
   "pygments_lexer": "ipython3",
   "version": "3.5.2"
  }
 },
 "nbformat": 4,
 "nbformat_minor": 4
}
